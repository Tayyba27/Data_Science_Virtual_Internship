{
 "cells": [
  {
   "attachments": {},
   "cell_type": "markdown",
   "metadata": {},
   "source": [
    "# Task 1\n",
    "\n",
    "# Data Cleaning\n",
    "Now since we have extracted data from the website, it is not cleaned and ready to be analyzed yet. The reviews section will need to be cleaned for punctuations, spellings and other characters."
   ]
  },
  {
   "cell_type": "code",
   "execution_count": 1,
   "metadata": {},
   "outputs": [],
   "source": [
    "import pandas as pd\n",
    "import numpy as np\n",
    "import matplotlib.pyplot as plt\n",
    "import seaborn as sns\n",
    "import os\n",
    "import re"
   ]
  },
  {
   "cell_type": "code",
   "execution_count": 2,
   "metadata": {},
   "outputs": [],
   "source": [
    "#create a dataframe from csv file\n",
    "\n",
    "cwd = os.getcwd()\n",
    "\n",
    "df = pd.read_csv(cwd+\"/BA_reviews.csv\", index_col=0)\n"
   ]
  },
  {
   "cell_type": "code",
   "execution_count": 3,
   "metadata": {},
   "outputs": [
    {
     "data": {
      "text/html": [
       "<div>\n",
       "<style scoped>\n",
       "    .dataframe tbody tr th:only-of-type {\n",
       "        vertical-align: middle;\n",
       "    }\n",
       "\n",
       "    .dataframe tbody tr th {\n",
       "        vertical-align: top;\n",
       "    }\n",
       "\n",
       "    .dataframe thead th {\n",
       "        text-align: right;\n",
       "    }\n",
       "</style>\n",
       "<table border=\"1\" class=\"dataframe\">\n",
       "  <thead>\n",
       "    <tr style=\"text-align: right;\">\n",
       "      <th></th>\n",
       "      <th>reviews</th>\n",
       "      <th>stars</th>\n",
       "      <th>date</th>\n",
       "      <th>country</th>\n",
       "    </tr>\n",
       "  </thead>\n",
       "  <tbody>\n",
       "    <tr>\n",
       "      <th>0</th>\n",
       "      <td>Not Verified |  They changed our Flights from ...</td>\n",
       "      <td>\\n\\t\\t\\t\\t\\t\\t\\t\\t\\t\\t\\t\\t\\t5</td>\n",
       "      <td>18th April 2023</td>\n",
       "      <td>United States</td>\n",
       "    </tr>\n",
       "    <tr>\n",
       "      <th>1</th>\n",
       "      <td>Not Verified |  At Copenhagen the most chaotic...</td>\n",
       "      <td>2</td>\n",
       "      <td>18th April 2023</td>\n",
       "      <td>United States</td>\n",
       "    </tr>\n",
       "    <tr>\n",
       "      <th>2</th>\n",
       "      <td>✅ Trip Verified |  Worst experience of my life...</td>\n",
       "      <td>5</td>\n",
       "      <td>17th April 2023</td>\n",
       "      <td>United States</td>\n",
       "    </tr>\n",
       "    <tr>\n",
       "      <th>3</th>\n",
       "      <td>✅ Trip Verified |  Due to code sharing with Ca...</td>\n",
       "      <td>1</td>\n",
       "      <td>17th April 2023</td>\n",
       "      <td>Hong Kong</td>\n",
       "    </tr>\n",
       "    <tr>\n",
       "      <th>4</th>\n",
       "      <td>✅ Trip Verified |  LHR check in was quick at t...</td>\n",
       "      <td>3</td>\n",
       "      <td>16th April 2023</td>\n",
       "      <td>United Kingdom</td>\n",
       "    </tr>\n",
       "  </tbody>\n",
       "</table>\n",
       "</div>"
      ],
      "text/plain": [
       "                                             reviews  \\\n",
       "0  Not Verified |  They changed our Flights from ...   \n",
       "1  Not Verified |  At Copenhagen the most chaotic...   \n",
       "2  ✅ Trip Verified |  Worst experience of my life...   \n",
       "3  ✅ Trip Verified |  Due to code sharing with Ca...   \n",
       "4  ✅ Trip Verified |  LHR check in was quick at t...   \n",
       "\n",
       "                           stars             date         country  \n",
       "0  \\n\\t\\t\\t\\t\\t\\t\\t\\t\\t\\t\\t\\t\\t5  18th April 2023   United States  \n",
       "1                              2  18th April 2023   United States  \n",
       "2                              5  17th April 2023   United States  \n",
       "3                              1  17th April 2023       Hong Kong  \n",
       "4                              3  16th April 2023  United Kingdom  "
      ]
     },
     "execution_count": 3,
     "metadata": {},
     "output_type": "execute_result"
    }
   ],
   "source": [
    "df.head()"
   ]
  },
  {
   "cell_type": "code",
   "execution_count": 4,
   "metadata": {},
   "outputs": [
    {
     "data": {
      "text/plain": [
       "<bound method DataFrame.info of                                                 reviews  \\\n",
       "0     Not Verified |  They changed our Flights from ...   \n",
       "1     Not Verified |  At Copenhagen the most chaotic...   \n",
       "2     ✅ Trip Verified |  Worst experience of my life...   \n",
       "3     ✅ Trip Verified |  Due to code sharing with Ca...   \n",
       "4     ✅ Trip Verified |  LHR check in was quick at t...   \n",
       "...                                                 ...   \n",
       "3495  Once again a good flight from LHR to Warsaw in...   \n",
       "3496  LGW-MRU-LGW in business. Outbound flight good ...   \n",
       "3497  LHR-FRA-LCY May 2014. LHR-FRA on a 767 row 18....   \n",
       "3498  Rating : 10/10 Cabin Flown Economy Value for M...   \n",
       "3499  08/5/2014 JFK-LHR-BRU. After the perfect outbo...   \n",
       "\n",
       "                              stars             date         country  \n",
       "0     \\n\\t\\t\\t\\t\\t\\t\\t\\t\\t\\t\\t\\t\\t5  18th April 2023   United States  \n",
       "1                                 2  18th April 2023   United States  \n",
       "2                                 5  17th April 2023   United States  \n",
       "3                                 1  17th April 2023       Hong Kong  \n",
       "4                                 3  16th April 2023  United Kingdom  \n",
       "...                             ...              ...             ...  \n",
       "3495                              6    11th May 2014  United Kingdom  \n",
       "3496                              2    11th May 2014  United Kingdom  \n",
       "3497                              9    11th May 2014  United Kingdom  \n",
       "3498                              8    11th May 2014  United Kingdom  \n",
       "3499                              4    11th May 2014         Belgium  \n",
       "\n",
       "[3500 rows x 4 columns]>"
      ]
     },
     "execution_count": 4,
     "metadata": {},
     "output_type": "execute_result"
    }
   ],
   "source": [
    "df.info"
   ]
  },
  {
   "cell_type": "code",
   "execution_count": 5,
   "metadata": {},
   "outputs": [
    {
     "data": {
      "text/plain": [
       "<bound method NDFrame.describe of                                                 reviews  \\\n",
       "0     Not Verified |  They changed our Flights from ...   \n",
       "1     Not Verified |  At Copenhagen the most chaotic...   \n",
       "2     ✅ Trip Verified |  Worst experience of my life...   \n",
       "3     ✅ Trip Verified |  Due to code sharing with Ca...   \n",
       "4     ✅ Trip Verified |  LHR check in was quick at t...   \n",
       "...                                                 ...   \n",
       "3495  Once again a good flight from LHR to Warsaw in...   \n",
       "3496  LGW-MRU-LGW in business. Outbound flight good ...   \n",
       "3497  LHR-FRA-LCY May 2014. LHR-FRA on a 767 row 18....   \n",
       "3498  Rating : 10/10 Cabin Flown Economy Value for M...   \n",
       "3499  08/5/2014 JFK-LHR-BRU. After the perfect outbo...   \n",
       "\n",
       "                              stars             date         country  \n",
       "0     \\n\\t\\t\\t\\t\\t\\t\\t\\t\\t\\t\\t\\t\\t5  18th April 2023   United States  \n",
       "1                                 2  18th April 2023   United States  \n",
       "2                                 5  17th April 2023   United States  \n",
       "3                                 1  17th April 2023       Hong Kong  \n",
       "4                                 3  16th April 2023  United Kingdom  \n",
       "...                             ...              ...             ...  \n",
       "3495                              6    11th May 2014  United Kingdom  \n",
       "3496                              2    11th May 2014  United Kingdom  \n",
       "3497                              9    11th May 2014  United Kingdom  \n",
       "3498                              8    11th May 2014  United Kingdom  \n",
       "3499                              4    11th May 2014         Belgium  \n",
       "\n",
       "[3500 rows x 4 columns]>"
      ]
     },
     "execution_count": 5,
     "metadata": {},
     "output_type": "execute_result"
    }
   ],
   "source": [
    "df.describe"
   ]
  },
  {
   "cell_type": "code",
   "execution_count": 6,
   "metadata": {},
   "outputs": [],
   "source": [
    "df['verified'] = df.reviews.str.contains(\"Trip Verified\")"
   ]
  },
  {
   "cell_type": "code",
   "execution_count": 7,
   "metadata": {},
   "outputs": [
    {
     "data": {
      "text/plain": [
       "0       False\n",
       "1       False\n",
       "2        True\n",
       "3        True\n",
       "4        True\n",
       "        ...  \n",
       "3495    False\n",
       "3496    False\n",
       "3497    False\n",
       "3498    False\n",
       "3499    False\n",
       "Name: verified, Length: 3500, dtype: bool"
      ]
     },
     "execution_count": 7,
     "metadata": {},
     "output_type": "execute_result"
    }
   ],
   "source": [
    "df['verified']"
   ]
  },
  {
   "attachments": {},
   "cell_type": "markdown",
   "metadata": {},
   "source": [
    "# Cleaning Reviews\n",
    "We will extract the column of reviews into a separate dataframe and clean it for semantic analysis"
   ]
  },
  {
   "cell_type": "code",
   "execution_count": 8,
   "metadata": {},
   "outputs": [],
   "source": [
    "from nltk.stem import WordNetLemmatizer\n",
    "from nltk.corpus import stopwords\n",
    "lemma = WordNetLemmatizer()\n"
   ]
  },
  {
   "cell_type": "code",
   "execution_count": 9,
   "metadata": {},
   "outputs": [],
   "source": [
    "reviews_data = df.reviews.str.strip(\"✅ Trip Verified |\")\n",
    "\n",
    "#create an empty list to collect cleaned data corpus\n",
    "corpus =[]"
   ]
  },
  {
   "cell_type": "code",
   "execution_count": 10,
   "metadata": {},
   "outputs": [],
   "source": [
    "#loop through each review, remove punctuations, small case it, join it and add it to corpus\n",
    "for rev in reviews_data:\n",
    "    rev = re.sub('[^a-zA-Z]',' ', rev)\n",
    "    rev = rev.lower()\n",
    "    rev = rev.split()\n",
    "    rev = [lemma.lemmatize(word) for word in rev if word not in set(stopwords.words(\"english\"))]\n",
    "    rev = \" \".join(rev)\n",
    "    corpus.append(rev)"
   ]
  },
  {
   "cell_type": "code",
   "execution_count": 11,
   "metadata": {},
   "outputs": [],
   "source": [
    "# add the corpus to the original dataframe\n",
    "\n",
    "df['corpus'] = corpus"
   ]
  },
  {
   "cell_type": "code",
   "execution_count": 12,
   "metadata": {},
   "outputs": [
    {
     "data": {
      "text/html": [
       "<div>\n",
       "<style scoped>\n",
       "    .dataframe tbody tr th:only-of-type {\n",
       "        vertical-align: middle;\n",
       "    }\n",
       "\n",
       "    .dataframe tbody tr th {\n",
       "        vertical-align: top;\n",
       "    }\n",
       "\n",
       "    .dataframe thead th {\n",
       "        text-align: right;\n",
       "    }\n",
       "</style>\n",
       "<table border=\"1\" class=\"dataframe\">\n",
       "  <thead>\n",
       "    <tr style=\"text-align: right;\">\n",
       "      <th></th>\n",
       "      <th>reviews</th>\n",
       "      <th>stars</th>\n",
       "      <th>date</th>\n",
       "      <th>country</th>\n",
       "      <th>verified</th>\n",
       "      <th>corpus</th>\n",
       "    </tr>\n",
       "  </thead>\n",
       "  <tbody>\n",
       "    <tr>\n",
       "      <th>0</th>\n",
       "      <td>Not Verified |  They changed our Flights from ...</td>\n",
       "      <td>\\n\\t\\t\\t\\t\\t\\t\\t\\t\\t\\t\\t\\t\\t5</td>\n",
       "      <td>18th April 2023</td>\n",
       "      <td>United States</td>\n",
       "      <td>False</td>\n",
       "      <td>verified changed flight brussels london heathr...</td>\n",
       "    </tr>\n",
       "    <tr>\n",
       "      <th>1</th>\n",
       "      <td>Not Verified |  At Copenhagen the most chaotic...</td>\n",
       "      <td>2</td>\n",
       "      <td>18th April 2023</td>\n",
       "      <td>United States</td>\n",
       "      <td>False</td>\n",
       "      <td>verified copenhagen chaotic ticket counter ass...</td>\n",
       "    </tr>\n",
       "    <tr>\n",
       "      <th>2</th>\n",
       "      <td>✅ Trip Verified |  Worst experience of my life...</td>\n",
       "      <td>5</td>\n",
       "      <td>17th April 2023</td>\n",
       "      <td>United States</td>\n",
       "      <td>True</td>\n",
       "      <td>worst experience life trying deal customer ser...</td>\n",
       "    </tr>\n",
       "    <tr>\n",
       "      <th>3</th>\n",
       "      <td>✅ Trip Verified |  Due to code sharing with Ca...</td>\n",
       "      <td>1</td>\n",
       "      <td>17th April 2023</td>\n",
       "      <td>Hong Kong</td>\n",
       "      <td>True</td>\n",
       "      <td>due code sharing cathay pacific downgraded ba ...</td>\n",
       "    </tr>\n",
       "    <tr>\n",
       "      <th>4</th>\n",
       "      <td>✅ Trip Verified |  LHR check in was quick at t...</td>\n",
       "      <td>3</td>\n",
       "      <td>16th April 2023</td>\n",
       "      <td>United Kingdom</td>\n",
       "      <td>True</td>\n",
       "      <td>lhr check quick first wing quickly security fi...</td>\n",
       "    </tr>\n",
       "  </tbody>\n",
       "</table>\n",
       "</div>"
      ],
      "text/plain": [
       "                                             reviews  \\\n",
       "0  Not Verified |  They changed our Flights from ...   \n",
       "1  Not Verified |  At Copenhagen the most chaotic...   \n",
       "2  ✅ Trip Verified |  Worst experience of my life...   \n",
       "3  ✅ Trip Verified |  Due to code sharing with Ca...   \n",
       "4  ✅ Trip Verified |  LHR check in was quick at t...   \n",
       "\n",
       "                           stars             date         country  verified  \\\n",
       "0  \\n\\t\\t\\t\\t\\t\\t\\t\\t\\t\\t\\t\\t\\t5  18th April 2023   United States     False   \n",
       "1                              2  18th April 2023   United States     False   \n",
       "2                              5  17th April 2023   United States      True   \n",
       "3                              1  17th April 2023       Hong Kong      True   \n",
       "4                              3  16th April 2023  United Kingdom      True   \n",
       "\n",
       "                                              corpus  \n",
       "0  verified changed flight brussels london heathr...  \n",
       "1  verified copenhagen chaotic ticket counter ass...  \n",
       "2  worst experience life trying deal customer ser...  \n",
       "3  due code sharing cathay pacific downgraded ba ...  \n",
       "4  lhr check quick first wing quickly security fi...  "
      ]
     },
     "execution_count": 12,
     "metadata": {},
     "output_type": "execute_result"
    }
   ],
   "source": [
    "df.head()"
   ]
  },
  {
   "cell_type": "code",
   "execution_count": 13,
   "metadata": {},
   "outputs": [
    {
     "data": {
      "text/plain": [
       "reviews     object\n",
       "stars       object\n",
       "date        object\n",
       "country     object\n",
       "verified      bool\n",
       "corpus      object\n",
       "dtype: object"
      ]
     },
     "execution_count": 13,
     "metadata": {},
     "output_type": "execute_result"
    }
   ],
   "source": [
    "#Cleaning/Fromat date\n",
    "df.dtypes"
   ]
  },
  {
   "cell_type": "code",
   "execution_count": 14,
   "metadata": {},
   "outputs": [],
   "source": [
    "# convert the date to datetime format\n",
    "\n",
    "df.date = pd.to_datetime(df.date)"
   ]
  },
  {
   "cell_type": "code",
   "execution_count": 15,
   "metadata": {},
   "outputs": [
    {
     "data": {
      "text/plain": [
       "0   2023-04-18\n",
       "1   2023-04-18\n",
       "2   2023-04-17\n",
       "3   2023-04-17\n",
       "4   2023-04-16\n",
       "Name: date, dtype: datetime64[ns]"
      ]
     },
     "execution_count": 15,
     "metadata": {},
     "output_type": "execute_result"
    }
   ],
   "source": [
    "df.date.head()"
   ]
  },
  {
   "cell_type": "code",
   "execution_count": 16,
   "metadata": {},
   "outputs": [
    {
     "data": {
      "text/plain": [
       "array(['\\n\\t\\t\\t\\t\\t\\t\\t\\t\\t\\t\\t\\t\\t5', '2', '5', '1', '3', '4', '9', '7',\n",
       "       '10', '8', '6', 'None'], dtype=object)"
      ]
     },
     "execution_count": 16,
     "metadata": {},
     "output_type": "execute_result"
    }
   ],
   "source": [
    "#Cleaning ratings with stars\n",
    "#check for unique values\n",
    "df.stars.unique()"
   ]
  },
  {
   "cell_type": "code",
   "execution_count": 17,
   "metadata": {},
   "outputs": [],
   "source": [
    "# remove the \\t and \\n from the ratings\n",
    "df.stars = df.stars.str.strip(\"\\n\\t\\t\\t\\t\\t\\t\\t\\t\\t\\t\\t\\t\\t\")"
   ]
  },
  {
   "cell_type": "code",
   "execution_count": 17,
   "metadata": {},
   "outputs": [
    {
     "data": {
      "text/plain": [
       "1       770\n",
       "2       393\n",
       "3       390\n",
       "8       350\n",
       "10      308\n",
       "7       303\n",
       "9       299\n",
       "5       261\n",
       "4       239\n",
       "6       183\n",
       "None      4\n",
       "Name: stars, dtype: int64"
      ]
     },
     "execution_count": 17,
     "metadata": {},
     "output_type": "execute_result"
    }
   ],
   "source": [
    "df.stars.value_counts()"
   ]
  },
  {
   "cell_type": "code",
   "execution_count": 18,
   "metadata": {},
   "outputs": [
    {
     "data": {
      "text/plain": [
       "array(['5', '2', '1', '3', '4', '9', '7', '10', '8', '6'], dtype=object)"
      ]
     },
     "execution_count": 18,
     "metadata": {},
     "output_type": "execute_result"
    }
   ],
   "source": [
    "# drop the rows where the value of ratings is None\n",
    "df.drop(df[df.stars == \"None\"].index, axis=0, inplace=True)\n",
    "#check the unique values again\n",
    "df.stars.unique()"
   ]
  },
  {
   "cell_type": "code",
   "execution_count": 19,
   "metadata": {},
   "outputs": [
    {
     "data": {
      "text/plain": [
       "reviews  stars  date   country  verified  corpus\n",
       "False    False  False  False    False     False     3494\n",
       "                       True     False     False        2\n",
       "dtype: int64"
      ]
     },
     "execution_count": 19,
     "metadata": {},
     "output_type": "execute_result"
    }
   ],
   "source": [
    "#Check for null Values\n",
    "df.isnull().value_counts()"
   ]
  },
  {
   "cell_type": "code",
   "execution_count": 20,
   "metadata": {},
   "outputs": [
    {
     "data": {
      "text/plain": [
       "False    3494\n",
       "True        2\n",
       "Name: country, dtype: int64"
      ]
     },
     "execution_count": 20,
     "metadata": {},
     "output_type": "execute_result"
    }
   ],
   "source": [
    "df.country.isnull().value_counts()"
   ]
  },
  {
   "cell_type": "code",
   "execution_count": 21,
   "metadata": {},
   "outputs": [],
   "source": [
    "#drop the rows using index where the country value is null\n",
    "df.drop(df[df.country.isnull() == True].index, axis=0, inplace=True)"
   ]
  },
  {
   "cell_type": "code",
   "execution_count": 22,
   "metadata": {},
   "outputs": [
    {
     "data": {
      "text/plain": [
       "(3494, 6)"
      ]
     },
     "execution_count": 22,
     "metadata": {},
     "output_type": "execute_result"
    }
   ],
   "source": [
    "df.shape"
   ]
  },
  {
   "cell_type": "code",
   "execution_count": 24,
   "metadata": {},
   "outputs": [
    {
     "data": {
      "text/html": [
       "<div>\n",
       "<style scoped>\n",
       "    .dataframe tbody tr th:only-of-type {\n",
       "        vertical-align: middle;\n",
       "    }\n",
       "\n",
       "    .dataframe tbody tr th {\n",
       "        vertical-align: top;\n",
       "    }\n",
       "\n",
       "    .dataframe thead th {\n",
       "        text-align: right;\n",
       "    }\n",
       "</style>\n",
       "<table border=\"1\" class=\"dataframe\">\n",
       "  <thead>\n",
       "    <tr style=\"text-align: right;\">\n",
       "      <th></th>\n",
       "      <th>reviews</th>\n",
       "      <th>stars</th>\n",
       "      <th>date</th>\n",
       "      <th>country</th>\n",
       "      <th>verified</th>\n",
       "      <th>corpus</th>\n",
       "    </tr>\n",
       "  </thead>\n",
       "  <tbody>\n",
       "    <tr>\n",
       "      <th>0</th>\n",
       "      <td>Not Verified |  They changed our Flights from ...</td>\n",
       "      <td>5</td>\n",
       "      <td>2023-04-18</td>\n",
       "      <td>United States</td>\n",
       "      <td>False</td>\n",
       "      <td>verified changed flight brussels london heathr...</td>\n",
       "    </tr>\n",
       "    <tr>\n",
       "      <th>1</th>\n",
       "      <td>Not Verified |  At Copenhagen the most chaotic...</td>\n",
       "      <td>2</td>\n",
       "      <td>2023-04-18</td>\n",
       "      <td>United States</td>\n",
       "      <td>False</td>\n",
       "      <td>verified copenhagen chaotic ticket counter ass...</td>\n",
       "    </tr>\n",
       "    <tr>\n",
       "      <th>2</th>\n",
       "      <td>✅ Trip Verified |  Worst experience of my life...</td>\n",
       "      <td>5</td>\n",
       "      <td>2023-04-17</td>\n",
       "      <td>United States</td>\n",
       "      <td>True</td>\n",
       "      <td>worst experience life trying deal customer ser...</td>\n",
       "    </tr>\n",
       "    <tr>\n",
       "      <th>3</th>\n",
       "      <td>✅ Trip Verified |  Due to code sharing with Ca...</td>\n",
       "      <td>1</td>\n",
       "      <td>2023-04-17</td>\n",
       "      <td>Hong Kong</td>\n",
       "      <td>True</td>\n",
       "      <td>due code sharing cathay pacific downgraded ba ...</td>\n",
       "    </tr>\n",
       "    <tr>\n",
       "      <th>4</th>\n",
       "      <td>✅ Trip Verified |  LHR check in was quick at t...</td>\n",
       "      <td>3</td>\n",
       "      <td>2023-04-16</td>\n",
       "      <td>United Kingdom</td>\n",
       "      <td>True</td>\n",
       "      <td>lhr check quick first wing quickly security fi...</td>\n",
       "    </tr>\n",
       "    <tr>\n",
       "      <th>...</th>\n",
       "      <td>...</td>\n",
       "      <td>...</td>\n",
       "      <td>...</td>\n",
       "      <td>...</td>\n",
       "      <td>...</td>\n",
       "      <td>...</td>\n",
       "    </tr>\n",
       "    <tr>\n",
       "      <th>3489</th>\n",
       "      <td>Once again a good flight from LHR to Warsaw in...</td>\n",
       "      <td>6</td>\n",
       "      <td>2014-05-11</td>\n",
       "      <td>United Kingdom</td>\n",
       "      <td>False</td>\n",
       "      <td>good flight lhr warsaw cabin crew efficient fr...</td>\n",
       "    </tr>\n",
       "    <tr>\n",
       "      <th>3490</th>\n",
       "      <td>LGW-MRU-LGW in business. Outbound flight good ...</td>\n",
       "      <td>2</td>\n",
       "      <td>2014-05-11</td>\n",
       "      <td>United Kingdom</td>\n",
       "      <td>False</td>\n",
       "      <td>lgw mru lgw business outbound flight good atte...</td>\n",
       "    </tr>\n",
       "    <tr>\n",
       "      <th>3491</th>\n",
       "      <td>LHR-FRA-LCY May 2014. LHR-FRA on a 767 row 18....</td>\n",
       "      <td>9</td>\n",
       "      <td>2014-05-11</td>\n",
       "      <td>United Kingdom</td>\n",
       "      <td>False</td>\n",
       "      <td>lhr fra lcy may lhr fra row checked via mobile...</td>\n",
       "    </tr>\n",
       "    <tr>\n",
       "      <th>3492</th>\n",
       "      <td>Rating : 10/10 Cabin Flown Economy Value for M...</td>\n",
       "      <td>8</td>\n",
       "      <td>2014-05-11</td>\n",
       "      <td>United Kingdom</td>\n",
       "      <td>False</td>\n",
       "      <td>rating cabin flown economy value money seat co...</td>\n",
       "    </tr>\n",
       "    <tr>\n",
       "      <th>3493</th>\n",
       "      <td>08/5/2014 JFK-LHR-BRU. After the perfect outbo...</td>\n",
       "      <td>4</td>\n",
       "      <td>2014-05-11</td>\n",
       "      <td>Belgium</td>\n",
       "      <td>False</td>\n",
       "      <td>jfk lhr bru perfect outbound flight thought in...</td>\n",
       "    </tr>\n",
       "  </tbody>\n",
       "</table>\n",
       "<p>3494 rows × 6 columns</p>\n",
       "</div>"
      ],
      "text/plain": [
       "                                                reviews stars       date  \\\n",
       "0     Not Verified |  They changed our Flights from ...     5 2023-04-18   \n",
       "1     Not Verified |  At Copenhagen the most chaotic...     2 2023-04-18   \n",
       "2     ✅ Trip Verified |  Worst experience of my life...     5 2023-04-17   \n",
       "3     ✅ Trip Verified |  Due to code sharing with Ca...     1 2023-04-17   \n",
       "4     ✅ Trip Verified |  LHR check in was quick at t...     3 2023-04-16   \n",
       "...                                                 ...   ...        ...   \n",
       "3489  Once again a good flight from LHR to Warsaw in...     6 2014-05-11   \n",
       "3490  LGW-MRU-LGW in business. Outbound flight good ...     2 2014-05-11   \n",
       "3491  LHR-FRA-LCY May 2014. LHR-FRA on a 767 row 18....     9 2014-05-11   \n",
       "3492  Rating : 10/10 Cabin Flown Economy Value for M...     8 2014-05-11   \n",
       "3493  08/5/2014 JFK-LHR-BRU. After the perfect outbo...     4 2014-05-11   \n",
       "\n",
       "             country  verified  \\\n",
       "0      United States     False   \n",
       "1      United States     False   \n",
       "2      United States      True   \n",
       "3          Hong Kong      True   \n",
       "4     United Kingdom      True   \n",
       "...              ...       ...   \n",
       "3489  United Kingdom     False   \n",
       "3490  United Kingdom     False   \n",
       "3491  United Kingdom     False   \n",
       "3492  United Kingdom     False   \n",
       "3493         Belgium     False   \n",
       "\n",
       "                                                 corpus  \n",
       "0     verified changed flight brussels london heathr...  \n",
       "1     verified copenhagen chaotic ticket counter ass...  \n",
       "2     worst experience life trying deal customer ser...  \n",
       "3     due code sharing cathay pacific downgraded ba ...  \n",
       "4     lhr check quick first wing quickly security fi...  \n",
       "...                                                 ...  \n",
       "3489  good flight lhr warsaw cabin crew efficient fr...  \n",
       "3490  lgw mru lgw business outbound flight good atte...  \n",
       "3491  lhr fra lcy may lhr fra row checked via mobile...  \n",
       "3492  rating cabin flown economy value money seat co...  \n",
       "3493  jfk lhr bru perfect outbound flight thought in...  \n",
       "\n",
       "[3494 rows x 6 columns]"
      ]
     },
     "execution_count": 24,
     "metadata": {},
     "output_type": "execute_result"
    }
   ],
   "source": [
    "#resetting the index\n",
    "df.reset_index(drop=True)"
   ]
  },
  {
   "cell_type": "code",
   "execution_count": null,
   "metadata": {},
   "outputs": [],
   "source": [
    "# Now our data is all cleaned and ready for data visualization and data analysis.\n",
    "\n",
    "# export the cleaned data\n",
    "\n",
    "df.to_csv(cwd + \"/cleaned-BA-reviews.csv\")"
   ]
  }
 ],
 "metadata": {
  "kernelspec": {
   "display_name": "Python 3",
   "language": "python",
   "name": "python3"
  },
  "language_info": {
   "codemirror_mode": {
    "name": "ipython",
    "version": 3
   },
   "file_extension": ".py",
   "mimetype": "text/x-python",
   "name": "python",
   "nbconvert_exporter": "python",
   "pygments_lexer": "ipython3",
   "version": "3.10.6"
  },
  "orig_nbformat": 4
 },
 "nbformat": 4,
 "nbformat_minor": 2
}
